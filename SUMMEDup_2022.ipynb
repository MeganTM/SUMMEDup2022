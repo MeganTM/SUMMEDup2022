{
 "cells": [
  {
   "cell_type": "markdown",
   "id": "9baa4170-189c-49b2-8be0-91b9c2cde677",
   "metadata": {},
   "source": [
    "# SUMMEDup 2022: The SUMup Database Explorer\n",
    "\n",
    "#### Created by Megan Thompson-Munson\n",
    "\n",
    "#### Last updated: 10 June 2022\n",
    "\n",
    "This script allows users of the SUMup database to read in and plot information from all four subdatasets of SUMup. This is an expansion on Megan's original SUMMEDup tool (https://github.com/MeganTM/SUMMEDup), which only focused on the density subdataset. To use this script, import the necessary libraries by running the cell below, make sure the paths to your data are correct, and then go to the desired subdataset section:\n",
    "1. Density\n",
    "2. Annual Accumulation\n",
    "3. Borehole Temperature\n",
    "4. Snow Depth on Sea Ice\n",
    "\n",
    "Please do not hesitate to reach out to Megan with any questions or requests (metm9666@colorado.edu)."
   ]
  },
  {
   "cell_type": "markdown",
   "id": "ff6c1991-1ef6-4f11-a504-dde12c587daf",
   "metadata": {},
   "source": [
    "#### Import libraries"
   ]
  },
  {
   "cell_type": "code",
   "execution_count": 1,
   "id": "eb855f05-f598-4960-bb23-31d00548b38a",
   "metadata": {},
   "outputs": [],
   "source": [
    "# For opening, viewing, and printing dataset info\n",
    "import numpy as np\n",
    "import pandas as pd\n",
    "\n",
    "# For plotting data and metadata\n",
    "import matplotlib.pyplot as plt\n",
    "import matplotlib_inline.backend_inline\n",
    "import cartopy\n",
    "import cartopy.crs as ccrs\n",
    "import cartopy.feature as cfeature\n",
    "from mpl_toolkits.axes_grid1.inset_locator import inset_axes\n",
    "matplotlib_inline.backend_inline.set_matplotlib_formats('svg')"
   ]
  },
  {
   "cell_type": "markdown",
   "id": "b6ea29a1-0ccb-428b-acd1-1176c41a9c88",
   "metadata": {},
   "source": [
    "#### Set paths to data files\n",
    "\n",
    "The below paths work if your data is saved to the same directory (folder) as this script."
   ]
  },
  {
   "cell_type": "code",
   "execution_count": 2,
   "id": "6c6e08c5-e273-4a67-978c-8331bb8d3fe1",
   "metadata": {},
   "outputs": [],
   "source": [
    "density = 'SUMup_density_2022.csv'\n",
    "accumulation = 'SUMup_accumulation_2022.csv'\n",
    "temperature = 'SUMup_temperature_2022.csv'\n",
    "snowdepth = 'SUMup_snowdepth_2022.csv'"
   ]
  },
  {
   "cell_type": "markdown",
   "id": "dca50789-9671-4ea2-9881-14cbb47683a8",
   "metadata": {},
   "source": [
    "***"
   ]
  },
  {
   "cell_type": "markdown",
   "id": "26a1da7d-b62d-4bfd-920e-28fd80518faf",
   "metadata": {},
   "source": [
    "## 1. Subdataset: Density"
   ]
  },
  {
   "cell_type": "markdown",
   "id": "878acdd1-4e0a-43c2-91d0-0dac00505377",
   "metadata": {},
   "source": [
    "### 1.1. Open and view dataset"
   ]
  },
  {
   "cell_type": "code",
   "execution_count": 3,
   "id": "a660e72d-91cf-4c70-977f-5e4e5fbc95ab",
   "metadata": {},
   "outputs": [
    {
     "data": {
      "text/html": [
       "<div>\n",
       "<style scoped>\n",
       "    .dataframe tbody tr th:only-of-type {\n",
       "        vertical-align: middle;\n",
       "    }\n",
       "\n",
       "    .dataframe tbody tr th {\n",
       "        vertical-align: top;\n",
       "    }\n",
       "\n",
       "    .dataframe thead th {\n",
       "        text-align: right;\n",
       "    }\n",
       "</style>\n",
       "<table border=\"1\" class=\"dataframe\">\n",
       "  <thead>\n",
       "    <tr style=\"text-align: right;\">\n",
       "      <th></th>\n",
       "      <th>Profile</th>\n",
       "      <th>Citation</th>\n",
       "      <th>Method</th>\n",
       "      <th>Date</th>\n",
       "      <th>Timestamp</th>\n",
       "      <th>Latitude</th>\n",
       "      <th>Longitude</th>\n",
       "      <th>Elevation</th>\n",
       "      <th>SDOS_Flag</th>\n",
       "      <th>Start_Depth</th>\n",
       "      <th>Stop_Depth</th>\n",
       "      <th>Midpoint</th>\n",
       "      <th>Density</th>\n",
       "      <th>Error</th>\n",
       "    </tr>\n",
       "  </thead>\n",
       "  <tbody>\n",
       "    <tr>\n",
       "      <th>0</th>\n",
       "      <td>1</td>\n",
       "      <td>1</td>\n",
       "      <td>4</td>\n",
       "      <td>20020000</td>\n",
       "      <td>2002-01-01</td>\n",
       "      <td>-89.9333</td>\n",
       "      <td>144.393799</td>\n",
       "      <td>2808.0</td>\n",
       "      <td>0</td>\n",
       "      <td>-9999.0</td>\n",
       "      <td>-9999.0</td>\n",
       "      <td>3.305</td>\n",
       "      <td>420.97000</td>\n",
       "      <td>-9999.0</td>\n",
       "    </tr>\n",
       "    <tr>\n",
       "      <th>1</th>\n",
       "      <td>1</td>\n",
       "      <td>1</td>\n",
       "      <td>4</td>\n",
       "      <td>20020000</td>\n",
       "      <td>2002-01-01</td>\n",
       "      <td>-89.9333</td>\n",
       "      <td>144.393799</td>\n",
       "      <td>2808.0</td>\n",
       "      <td>0</td>\n",
       "      <td>-9999.0</td>\n",
       "      <td>-9999.0</td>\n",
       "      <td>4.255</td>\n",
       "      <td>414.75998</td>\n",
       "      <td>-9999.0</td>\n",
       "    </tr>\n",
       "    <tr>\n",
       "      <th>2</th>\n",
       "      <td>1</td>\n",
       "      <td>1</td>\n",
       "      <td>4</td>\n",
       "      <td>20020000</td>\n",
       "      <td>2002-01-01</td>\n",
       "      <td>-89.9333</td>\n",
       "      <td>144.393799</td>\n",
       "      <td>2808.0</td>\n",
       "      <td>0</td>\n",
       "      <td>-9999.0</td>\n",
       "      <td>-9999.0</td>\n",
       "      <td>5.245</td>\n",
       "      <td>418.84000</td>\n",
       "      <td>-9999.0</td>\n",
       "    </tr>\n",
       "    <tr>\n",
       "      <th>3</th>\n",
       "      <td>1</td>\n",
       "      <td>1</td>\n",
       "      <td>4</td>\n",
       "      <td>20020000</td>\n",
       "      <td>2002-01-01</td>\n",
       "      <td>-89.9333</td>\n",
       "      <td>144.393799</td>\n",
       "      <td>2808.0</td>\n",
       "      <td>0</td>\n",
       "      <td>-9999.0</td>\n",
       "      <td>-9999.0</td>\n",
       "      <td>6.220</td>\n",
       "      <td>437.48000</td>\n",
       "      <td>-9999.0</td>\n",
       "    </tr>\n",
       "    <tr>\n",
       "      <th>4</th>\n",
       "      <td>1</td>\n",
       "      <td>1</td>\n",
       "      <td>4</td>\n",
       "      <td>20020000</td>\n",
       "      <td>2002-01-01</td>\n",
       "      <td>-89.9333</td>\n",
       "      <td>144.393799</td>\n",
       "      <td>2808.0</td>\n",
       "      <td>0</td>\n",
       "      <td>-9999.0</td>\n",
       "      <td>-9999.0</td>\n",
       "      <td>7.205</td>\n",
       "      <td>445.80002</td>\n",
       "      <td>-9999.0</td>\n",
       "    </tr>\n",
       "  </tbody>\n",
       "</table>\n",
       "</div>"
      ],
      "text/plain": [
       "   Profile  Citation  Method      Date   Timestamp  Latitude   Longitude  \\\n",
       "0        1         1       4  20020000  2002-01-01  -89.9333  144.393799   \n",
       "1        1         1       4  20020000  2002-01-01  -89.9333  144.393799   \n",
       "2        1         1       4  20020000  2002-01-01  -89.9333  144.393799   \n",
       "3        1         1       4  20020000  2002-01-01  -89.9333  144.393799   \n",
       "4        1         1       4  20020000  2002-01-01  -89.9333  144.393799   \n",
       "\n",
       "   Elevation  SDOS_Flag  Start_Depth  Stop_Depth  Midpoint    Density   Error  \n",
       "0     2808.0          0      -9999.0     -9999.0     3.305  420.97000 -9999.0  \n",
       "1     2808.0          0      -9999.0     -9999.0     4.255  414.75998 -9999.0  \n",
       "2     2808.0          0      -9999.0     -9999.0     5.245  418.84000 -9999.0  \n",
       "3     2808.0          0      -9999.0     -9999.0     6.220  437.48000 -9999.0  \n",
       "4     2808.0          0      -9999.0     -9999.0     7.205  445.80002 -9999.0  "
      ]
     },
     "execution_count": 3,
     "metadata": {},
     "output_type": "execute_result"
    }
   ],
   "source": [
    "# Open data as a dataframe\n",
    "df = pd.read_csv(density)\n",
    "\n",
    "# Print out the first few lines\n",
    "df.head()"
   ]
  },
  {
   "cell_type": "code",
   "execution_count": 4,
   "id": "620edf46-4613-4116-9798-dba5c78c34fa",
   "metadata": {},
   "outputs": [
    {
     "name": "stdout",
     "output_type": "stream",
     "text": [
      "Number of individual measurements: 2286625\n",
      "Number of profiles: 3453\n"
     ]
    }
   ],
   "source": [
    "# Print basic information about the dataset\n",
    "print('Number of individual measurements: {}'.format(len(df)))\n",
    "print('Number of profiles: {}'.format(len(df.Profile.unique())))"
   ]
  },
  {
   "cell_type": "code",
   "execution_count": 5,
   "id": "9307a9c3-e69e-47ee-b00b-1ff60d188638",
   "metadata": {},
   "outputs": [
    {
     "data": {
      "text/html": [
       "<div>\n",
       "<style scoped>\n",
       "    .dataframe tbody tr th:only-of-type {\n",
       "        vertical-align: middle;\n",
       "    }\n",
       "\n",
       "    .dataframe tbody tr th {\n",
       "        vertical-align: top;\n",
       "    }\n",
       "\n",
       "    .dataframe thead th {\n",
       "        text-align: right;\n",
       "    }\n",
       "</style>\n",
       "<table border=\"1\" class=\"dataframe\">\n",
       "  <thead>\n",
       "    <tr style=\"text-align: right;\">\n",
       "      <th></th>\n",
       "      <th>Profile</th>\n",
       "      <th>Citation</th>\n",
       "      <th>Method</th>\n",
       "      <th>Timestamp</th>\n",
       "      <th>Latitude</th>\n",
       "      <th>Longitude</th>\n",
       "      <th>Elevation</th>\n",
       "      <th>Max_Depth</th>\n",
       "    </tr>\n",
       "  </thead>\n",
       "  <tbody>\n",
       "    <tr>\n",
       "      <th>0</th>\n",
       "      <td>1</td>\n",
       "      <td>1</td>\n",
       "      <td>4</td>\n",
       "      <td>2002-01-01</td>\n",
       "      <td>-89.9333</td>\n",
       "      <td>144.393799</td>\n",
       "      <td>2808.0</td>\n",
       "      <td>139.4850</td>\n",
       "    </tr>\n",
       "    <tr>\n",
       "      <th>1</th>\n",
       "      <td>2</td>\n",
       "      <td>1</td>\n",
       "      <td>4</td>\n",
       "      <td>2007-01-01</td>\n",
       "      <td>-88.5095</td>\n",
       "      <td>178.530807</td>\n",
       "      <td>3090.0</td>\n",
       "      <td>99.3050</td>\n",
       "    </tr>\n",
       "    <tr>\n",
       "      <th>2</th>\n",
       "      <td>3</td>\n",
       "      <td>1</td>\n",
       "      <td>4</td>\n",
       "      <td>2002-01-01</td>\n",
       "      <td>-88.0022</td>\n",
       "      <td>-107.983299</td>\n",
       "      <td>2747.0</td>\n",
       "      <td>54.0945</td>\n",
       "    </tr>\n",
       "    <tr>\n",
       "      <th>3</th>\n",
       "      <td>4</td>\n",
       "      <td>1</td>\n",
       "      <td>4</td>\n",
       "      <td>2003-01-01</td>\n",
       "      <td>-86.8400</td>\n",
       "      <td>95.309998</td>\n",
       "      <td>3124.2</td>\n",
       "      <td>20.7450</td>\n",
       "    </tr>\n",
       "    <tr>\n",
       "      <th>4</th>\n",
       "      <td>5</td>\n",
       "      <td>1</td>\n",
       "      <td>4</td>\n",
       "      <td>2002-01-01</td>\n",
       "      <td>-86.5025</td>\n",
       "      <td>-107.990303</td>\n",
       "      <td>2586.0</td>\n",
       "      <td>71.5595</td>\n",
       "    </tr>\n",
       "  </tbody>\n",
       "</table>\n",
       "</div>"
      ],
      "text/plain": [
       "   Profile  Citation  Method   Timestamp  Latitude   Longitude  Elevation  \\\n",
       "0        1         1       4  2002-01-01  -89.9333  144.393799     2808.0   \n",
       "1        2         1       4  2007-01-01  -88.5095  178.530807     3090.0   \n",
       "2        3         1       4  2002-01-01  -88.0022 -107.983299     2747.0   \n",
       "3        4         1       4  2003-01-01  -86.8400   95.309998     3124.2   \n",
       "4        5         1       4  2002-01-01  -86.5025 -107.990303     2586.0   \n",
       "\n",
       "   Max_Depth  \n",
       "0   139.4850  \n",
       "1    99.3050  \n",
       "2    54.0945  \n",
       "3    20.7450  \n",
       "4    71.5595  "
      ]
     },
     "execution_count": 5,
     "metadata": {},
     "output_type": "execute_result"
    }
   ],
   "source": [
    "# Create a dataframe of info for each profile\n",
    "dfs_info = []\n",
    "for i in df.Profile.unique():\n",
    "\n",
    "    # Create dataframe for each profile\n",
    "    dfi = df[df.Profile==i].reset_index(drop=True)\n",
    "\n",
    "    # Get profile information\n",
    "    idx = np.array(dfi.Profile)[0]\n",
    "    cit = np.array(dfi.Citation)[0]\n",
    "    method = np.array(dfi.Method)[0]\n",
    "    timestamp = np.array(dfi.Timestamp)[0]\n",
    "    lat = np.array(dfi.Latitude)[0]\n",
    "    lon = np.array(dfi.Longitude)[0]\n",
    "    elev = np.array(dfi.Elevation)[0]\n",
    "    \n",
    "    # Get max depth\n",
    "    if dfi.Stop_Depth[0] != -9999:\n",
    "        max_depth = np.array(dfi.Stop_Depth)[-1]\n",
    "    else:\n",
    "        max_depth = np.array(dfi.Midpoint)[-1]\n",
    "            \n",
    "    df_info = pd.DataFrame(data={'Profile':idx,'Citation':cit,'Method':method,'Timestamp':timestamp,\n",
    "                                 'Latitude':lat,'Longitude':lon,'Elevation':elev,'Max_Depth':max_depth},\n",
    "                           index=[0])\n",
    "    dfs_info.append(df_info)\n",
    "\n",
    "# Concat individual profiles into a single dataframe\n",
    "df_meta = pd.concat(dfs_info).reset_index(drop=True)\n",
    "\n",
    "# Show first few rows\n",
    "df_meta.head()"
   ]
  },
  {
   "cell_type": "markdown",
   "id": "e6cce71f-f431-4389-a27d-ee4b78210571",
   "metadata": {},
   "source": [
    "### 1.2. Partition dataset into Antarctica and Greenland"
   ]
  },
  {
   "cell_type": "code",
   "execution_count": 6,
   "id": "4941830b-9a8f-40c2-a72d-a188b4d9da4a",
   "metadata": {},
   "outputs": [],
   "source": [
    "# Split dataset\n",
    "df_greenland = df[df.Latitude>0]\n",
    "df_antarctica = df[df.Latitude<0]\n",
    "\n",
    "# Split metadata\n",
    "df_greenland_meta = df_meta[df_meta.Latitude>0]\n",
    "df_antarctica_meta = df_meta[df_meta.Latitude<0]"
   ]
  },
  {
   "cell_type": "code",
   "execution_count": 7,
   "id": "e5396788-faaa-4381-a981-3f84198c4652",
   "metadata": {},
   "outputs": [
    {
     "name": "stdout",
     "output_type": "stream",
     "text": [
      "Antarctica\n",
      "Number of profiles: 2464\n",
      "Max core depth: 199.75 m\n",
      "Earliest measurement: 1954-06-10\n",
      "Most recent measurement: 2019-12-10\n",
      "\n",
      "Greenland\n",
      "Number of profiles: 989\n",
      "Max core depth: 334.35 m\n",
      "Earliest measurement: 1952-08-16\n",
      "Most recent measurement: 2019-05-28\n"
     ]
    }
   ],
   "source": [
    "# Print info by ice sheet\n",
    "print('Antarctica')\n",
    "print('Number of profiles: {}'.format(len(df_antarctica_meta)))\n",
    "print('Max core depth: {} m'.format(max(df_antarctica_meta.Max_Depth)))\n",
    "print('Earliest measurement: {}'.format(df_antarctica_meta.Timestamp.min()))\n",
    "print('Most recent measurement: {}'.format(df_antarctica_meta.Timestamp.max()))\n",
    "\n",
    "print('\\nGreenland')\n",
    "print('Number of profiles: {}'.format(len(df_greenland_meta)))\n",
    "print('Max core depth: {} m'.format(max(df_greenland_meta.Max_Depth)))\n",
    "print('Earliest measurement: {}'.format(df_greenland_meta.Timestamp.min()))\n",
    "print('Most recent measurement: {}'.format(df_greenland_meta.Timestamp.max()))"
   ]
  },
  {
   "cell_type": "markdown",
   "id": "8d0688e9-bf79-4989-967f-6e7006a8da71",
   "metadata": {},
   "source": [
    "### 1.3. Plot locations"
   ]
  },
  {
   "cell_type": "markdown",
   "id": "95e299d9-743c-4beb-a327-f825a926a370",
   "metadata": {},
   "source": [
    "#### 1.3.1. Globally"
   ]
  },
  {
   "cell_type": "code",
   "execution_count": 8,
   "id": "4452147a-8269-4007-b87b-f78156a48167",
   "metadata": {},
   "outputs": [
    {
     "data": {
      "image/png": "[encoded data removed]",
      "text/plain": [
       "<Figure size 576x432 with 1 Axes>"
      ]
     },
     "metadata": {
      "needs_background": "light"
     },
     "output_type": "display_data"
    }
   ],
   "source": [
    "# Create a figure and axes for plotting all locations globally\n",
    "fig = plt.figure(figsize=(8,6))\n",
    "ax = plt.subplot(1,1,1,projection=ccrs.PlateCarree())\n",
    "ax.coastlines(color='gray')\n",
    "\n",
    "# Plot locations\n",
    "ax.scatter(df_meta.Longitude,df_meta.Latitude,transform=ccrs.PlateCarree(),\n",
    "           zorder=10,c='magenta',edgecolor='none',s=15);"
   ]
  },
  {
   "cell_type": "markdown",
   "id": "6928fc79-ee0c-4cc9-aac2-43f7f971e3c0",
   "metadata": {},
   "source": [
    "#### 1.3.2. Antarctica"
   ]
  },
  {
   "cell_type": "code",
   "execution_count": 9,
   "id": "607085bb-d1cb-4c62-b7fc-6c1fabbb7373",
   "metadata": {
    "tags": []
   },
   "outputs": [
    {
     "data": {
      "image/png": "[encoded data removed]",
      "text/plain": [
       "<Figure size 432x432 with 1 Axes>"
      ]
     },
     "metadata": {},
     "output_type": "display_data"
    }
   ],
   "source": [
    "# Set up figure for plotting \n",
    "fig = plt.figure(figsize=(6,6))\n",
    "fig.patch.set_facecolor('w')\n",
    "\n",
    "# Create axis with correct projection and extent\n",
    "ax = plt.subplot(1,1,1,projection=ccrs.SouthPolarStereo())\n",
    "ax.set_extent([-180, 180, -90, -65], ccrs.PlateCarree())\n",
    "ax.set_title('Antarctica')\n",
    "\n",
    "# Add features\n",
    "ocean = cfeature.NaturalEarthFeature('physical', 'ocean', '50m',\n",
    "                                     edgecolor='none',facecolor=cfeature.COLORS['water'])\n",
    "land = cfeature.NaturalEarthFeature('physical', 'land', '50m',\n",
    "                                    edgecolor='none',facecolor=cfeature.COLORS['land'])\n",
    "glacier = cfeature.NaturalEarthFeature('physical','glaciated_areas','50m',\n",
    "                                       edgecolor='none',facecolor='w')\n",
    "iceshelves = cfeature.NaturalEarthFeature('physical','antarctic_ice_shelves_polys','50m',\n",
    "                                          edgecolor='none',facecolor='#dddddd')\n",
    "ax.add_feature(ocean,zorder=0)\n",
    "ax.add_feature(land,zorder=1)\n",
    "ax.add_feature(glacier,zorder=2)\n",
    "ax.add_feature(iceshelves,zorder=3)\n",
    "\n",
    "# Plot locations\n",
    "ax.scatter(df_antarctica_meta.Longitude,df_antarctica_meta.Latitude,\n",
    "           transform=ccrs.PlateCarree(),zorder=5,\n",
    "           c='magenta',s=30,edgecolor='none');"
   ]
  },
  {
   "cell_type": "markdown",
   "id": "e8338d54-b946-4447-9ebd-05650adab61b",
   "metadata": {},
   "source": [
    "#### 1.3.3. Greenland"
   ]
  },
  {
   "cell_type": "code",
   "execution_count": 10,
   "id": "963a7395-8b9b-46da-9231-5b500771b4b6",
   "metadata": {},
   "outputs": [
    {
     "data": {
      "image/png": "[encoded data removed]",
      "text/plain": [
       "<Figure size 288x360 with 1 Axes>"
      ]
     },
     "metadata": {},
     "output_type": "display_data"
    }
   ],
   "source": [
    "# Set up figure for plotting \n",
    "fig = plt.figure(figsize=(4,5))\n",
    "fig.patch.set_facecolor('w')\n",
    "\n",
    "# Create axis with correct projection and extent\n",
    "ax = plt.subplot(1,1,1,projection=ccrs.NorthPolarStereo(central_longitude=-45))\n",
    "ax.set_extent([-56.5, -30, 59, 84], ccrs.PlateCarree())\n",
    "ax.set_title('Greenland')\n",
    "\n",
    "# Add features\n",
    "ocean = cfeature.NaturalEarthFeature('physical', 'ocean', '50m',\n",
    "                                     edgecolor='none',facecolor=cfeature.COLORS['water'])\n",
    "land = cfeature.NaturalEarthFeature('physical', 'land', '50m',\n",
    "                                    edgecolor='none',facecolor=cfeature.COLORS['land'])\n",
    "glacier = cfeature.NaturalEarthFeature('physical','glaciated_areas','50m',\n",
    "                                       edgecolor='none',facecolor='w')\n",
    "ax.add_feature(ocean,zorder=0)\n",
    "ax.add_feature(land,zorder=1)\n",
    "ax.add_feature(glacier,zorder=2)\n",
    "\n",
    "# Plot locations\n",
    "ax.scatter(df_greenland_meta.Longitude,df_greenland_meta.Latitude,\n",
    "           transform=ccrs.PlateCarree(),zorder=5,\n",
    "           c='magenta',s=25,edgecolor='none');"
   ]
  },
  {
   "cell_type": "markdown",
   "id": "62639bd4-1901-4258-8e46-80b0119cdfed",
   "metadata": {},
   "source": [
    "### 1.4. Plot density profiles"
   ]
  },
  {
   "cell_type": "markdown",
   "id": "35663d9f-fae9-494b-ae47-8ba267d70bd4",
   "metadata": {},
   "source": [
    "#### 1.4.1. Create plotting functions"
   ]
  },
  {
   "cell_type": "code",
   "execution_count": 11,
   "id": "939916e1-ffd9-4e07-aa14-9a0554b91e10",
   "metadata": {},
   "outputs": [],
   "source": [
    "def plot_basic(profile):\n",
    "    \"\"\"\n",
    "    Provide a single profile number to plot a basic density profile.\n",
    "    \"\"\"\n",
    "    # Set up figure and axes for plotting\n",
    "    fig, ax = plt.subplots(1,figsize=(2,4))\n",
    "    fig.patch.set_facecolor('#FFFFFF')\n",
    "    ax.invert_yaxis()\n",
    "    ax.set_ylabel('Depth (m)')\n",
    "    ax.set_xlabel(r'Density (kg m$^{-3}$)')\n",
    "\n",
    "    # Select the profile\n",
    "    df_profile = df[df.Profile==profile]\n",
    "\n",
    "    # Plot as line or step function depending on depth given\n",
    "    if df_profile.Midpoint.iloc[0] != -9999:\n",
    "        ax.plot(df_profile.Density,df_profile.Midpoint,c='magenta')\n",
    "    else:\n",
    "        ax.step(np.append(df_profile.Density.values,df_profile.Density.values[-1]),\n",
    "                np.append(df_profile.Start_Depth.values,df_profile.Stop_Depth.values[-1]),c='magenta')\n",
    "        \n",
    "def plot_detailed(profile):\n",
    "    \"\"\"\n",
    "    Provide a single profile number to plot a density profile with location and metadata.\n",
    "    \"\"\"\n",
    "    # Set up figure and axes for plotting\n",
    "    fig, ax = plt.subplots(1,figsize=(3,4))\n",
    "    fig.patch.set_facecolor('#FFFFFF')\n",
    "    ax.invert_yaxis()\n",
    "    ax.set_ylabel('Depth (m)')\n",
    "    ax.set_xlabel(r'Density (kg m$^{-3}$)')\n",
    "\n",
    "    # Select the profile\n",
    "    df_profile = df[df.Profile==profile].reset_index(drop=True)\n",
    "    \n",
    "    # Create a label from metadata\n",
    "    label = 'Profile: {}\\nCitation: {:.0f}\\nLat: {:.2f}\\nLon: {:.2f}\\nElev: {:.0f} m\\nDate: {}'.format(\n",
    "                    profile,df_profile.Citation[0],df_profile.Latitude[0],df_profile.Longitude[0],\n",
    "                    df_profile.Elevation[0],df_profile.Timestamp[0])\n",
    "\n",
    "    # Plot as line or step function depending on depth given\n",
    "    if df_profile.Midpoint.iloc[0] != -9999:\n",
    "        ax.plot(df_profile.Density,df_profile.Midpoint,label=label,c='magenta')\n",
    "    else:\n",
    "        ax.step(np.append(df_profile.Density.values,df_profile.Density.values[-1]),\n",
    "                np.append(df_profile.Start_Depth.values,df_profile.Stop_Depth.values[-1]),label=label,c='magenta')\n",
    "    \n",
    "    # Add legend\n",
    "    legend = ax.legend(prop={'size':8}, bbox_to_anchor=(-0.0075,1.015), loc='lower left',borderpad=0.1,labelspacing=1.0)\n",
    "    legend.get_frame().set_edgecolor('k')\n",
    "    legend.get_frame().set_boxstyle('Square')\n",
    "    \n",
    "    # Add map\n",
    "    if df_profile.Latitude[0] < 0:\n",
    "        ax_map = inset_axes(ax, width=0.8, height=0.8, bbox_to_anchor=(1,1.02),bbox_transform=ax.transAxes, \n",
    "                            loc='lower right', borderpad=0,\n",
    "                            axes_class=cartopy.mpl.geoaxes.GeoAxes, \n",
    "                            axes_kwargs=dict(map_projection=ccrs.SouthPolarStereo()))\n",
    "        ax_map.set_extent([-180, 180, -90, -65], ccrs.PlateCarree())\n",
    "    else:\n",
    "        ax_map = inset_axes(ax, width=1, height=0.975, bbox_to_anchor=(1.065,1.02),bbox_transform=ax.transAxes, \n",
    "                            loc='lower right', borderpad=0,\n",
    "                            axes_class=cartopy.mpl.geoaxes.GeoAxes, \n",
    "                            axes_kwargs=dict(map_projection=ccrs.NorthPolarStereo(central_longitude=-45)))\n",
    "        ax_map.set_extent([-60, -28, 58, 85], ccrs.PlateCarree())\n",
    "\n",
    "    ax_map.axes.xaxis.set_ticks([])\n",
    "    ax_map.axes.yaxis.set_ticks([])\n",
    "    ax_map.coastlines(resolution='110m',color='gray',zorder=0)   \n",
    "    \n",
    "    # Plot location\n",
    "    ax_map.scatter(df_profile.Longitude[0],df_profile.Latitude[0],\n",
    "            transform=ccrs.PlateCarree(),s=60,marker='*',c='magenta')"
   ]
  },
  {
   "cell_type": "markdown",
   "id": "fce91650-b225-48ff-a651-27eaf2b3f872",
   "metadata": {},
   "source": [
    "#### 1.4.2. Use plotting functions "
   ]
  },
  {
   "cell_type": "code",
   "execution_count": 12,
   "id": "862eadb8-85ff-414a-a8b6-b7e9167f868c",
   "metadata": {},
   "outputs": [
    {
     "data": {
      "image/png": "[encoded data removed]",
      "text/plain": [
       "<Figure size 144x288 with 1 Axes>"
      ]
     },
     "metadata": {},
     "output_type": "display_data"
    }
   ],
   "source": [
    "# Basic plot for profile 30\n",
    "plot_basic(30)"
   ]
  },
  {
   "cell_type": "code",
   "execution_count": 13,
   "id": "01e8e43d-b8c3-4352-8cb2-c519d631d887",
   "metadata": {},
   "outputs": [
    {
     "data": {
      "image/png": "[encoded data removed]",
      "text/plain": [
       "<Figure size 216x288 with 2 Axes>"
      ]
     },
     "metadata": {},
     "output_type": "display_data"
    }
   ],
   "source": [
    "# Detailed plot for profile 30\n",
    "plot_detailed(30)"
   ]
  },
  {
   "cell_type": "markdown",
   "id": "41cf37d2-d614-4885-aa69-b0790da6d6b6",
   "metadata": {},
   "source": [
    "***"
   ]
  },
  {
   "cell_type": "markdown",
   "id": "6ea1623c-ace2-4ae8-be88-9ffa29dc6c21",
   "metadata": {},
   "source": [
    "## 2. Subdataset: Annual Accumulation"
   ]
  },
  {
   "cell_type": "markdown",
   "id": "39422ef9-e0ec-4178-960d-0f7541b18a51",
   "metadata": {},
   "source": [
    "### 2.1. Open and view dataset"
   ]
  },
  {
   "cell_type": "code",
   "execution_count": 14,
   "id": "85c103a6-abd9-472c-b25c-378267abc724",
   "metadata": {},
   "outputs": [
    {
     "data": {
      "text/html": [
       "<div>\n",
       "<style scoped>\n",
       "    .dataframe tbody tr th:only-of-type {\n",
       "        vertical-align: middle;\n",
       "    }\n",
       "\n",
       "    .dataframe tbody tr th {\n",
       "        vertical-align: top;\n",
       "    }\n",
       "\n",
       "    .dataframe thead th {\n",
       "        text-align: right;\n",
       "    }\n",
       "</style>\n",
       "<table border=\"1\" class=\"dataframe\">\n",
       "  <thead>\n",
       "    <tr style=\"text-align: right;\">\n",
       "      <th></th>\n",
       "      <th>Name</th>\n",
       "      <th>Citation</th>\n",
       "      <th>Method</th>\n",
       "      <th>Date</th>\n",
       "      <th>Timestamp</th>\n",
       "      <th>Start_Year</th>\n",
       "      <th>End_Year</th>\n",
       "      <th>Year</th>\n",
       "      <th>Latitude</th>\n",
       "      <th>Longitude</th>\n",
       "      <th>Elevation</th>\n",
       "      <th>Radar_Horizontal_Resolution</th>\n",
       "      <th>Accumulation</th>\n",
       "      <th>Error</th>\n",
       "    </tr>\n",
       "  </thead>\n",
       "  <tbody>\n",
       "    <tr>\n",
       "      <th>0</th>\n",
       "      <td>6.0</td>\n",
       "      <td>1</td>\n",
       "      <td>1</td>\n",
       "      <td>19950000.0</td>\n",
       "      <td>1995-01-01</td>\n",
       "      <td>-9999.0</td>\n",
       "      <td>-9999.0</td>\n",
       "      <td>1989.0</td>\n",
       "      <td>-90.0</td>\n",
       "      <td>0.0</td>\n",
       "      <td>2850.0</td>\n",
       "      <td>-9999.0</td>\n",
       "      <td>0.0849</td>\n",
       "      <td>-9999.0</td>\n",
       "    </tr>\n",
       "    <tr>\n",
       "      <th>1</th>\n",
       "      <td>6.0</td>\n",
       "      <td>1</td>\n",
       "      <td>1</td>\n",
       "      <td>19950000.0</td>\n",
       "      <td>1995-01-01</td>\n",
       "      <td>-9999.0</td>\n",
       "      <td>-9999.0</td>\n",
       "      <td>1988.0</td>\n",
       "      <td>-90.0</td>\n",
       "      <td>0.0</td>\n",
       "      <td>2850.0</td>\n",
       "      <td>-9999.0</td>\n",
       "      <td>0.0740</td>\n",
       "      <td>-9999.0</td>\n",
       "    </tr>\n",
       "    <tr>\n",
       "      <th>2</th>\n",
       "      <td>6.0</td>\n",
       "      <td>1</td>\n",
       "      <td>1</td>\n",
       "      <td>19950000.0</td>\n",
       "      <td>1995-01-01</td>\n",
       "      <td>-9999.0</td>\n",
       "      <td>-9999.0</td>\n",
       "      <td>1987.0</td>\n",
       "      <td>-90.0</td>\n",
       "      <td>0.0</td>\n",
       "      <td>2850.0</td>\n",
       "      <td>-9999.0</td>\n",
       "      <td>0.0652</td>\n",
       "      <td>-9999.0</td>\n",
       "    </tr>\n",
       "    <tr>\n",
       "      <th>3</th>\n",
       "      <td>6.0</td>\n",
       "      <td>1</td>\n",
       "      <td>1</td>\n",
       "      <td>19950000.0</td>\n",
       "      <td>1995-01-01</td>\n",
       "      <td>-9999.0</td>\n",
       "      <td>-9999.0</td>\n",
       "      <td>1986.0</td>\n",
       "      <td>-90.0</td>\n",
       "      <td>0.0</td>\n",
       "      <td>2850.0</td>\n",
       "      <td>-9999.0</td>\n",
       "      <td>0.1301</td>\n",
       "      <td>-9999.0</td>\n",
       "    </tr>\n",
       "    <tr>\n",
       "      <th>4</th>\n",
       "      <td>6.0</td>\n",
       "      <td>1</td>\n",
       "      <td>1</td>\n",
       "      <td>19950000.0</td>\n",
       "      <td>1995-01-01</td>\n",
       "      <td>-9999.0</td>\n",
       "      <td>-9999.0</td>\n",
       "      <td>1985.0</td>\n",
       "      <td>-90.0</td>\n",
       "      <td>0.0</td>\n",
       "      <td>2850.0</td>\n",
       "      <td>-9999.0</td>\n",
       "      <td>0.0767</td>\n",
       "      <td>-9999.0</td>\n",
       "    </tr>\n",
       "  </tbody>\n",
       "</table>\n",
       "</div>"
      ],
      "text/plain": [
       "   Name  Citation  Method        Date   Timestamp  Start_Year  End_Year  \\\n",
       "0   6.0         1       1  19950000.0  1995-01-01     -9999.0   -9999.0   \n",
       "1   6.0         1       1  19950000.0  1995-01-01     -9999.0   -9999.0   \n",
       "2   6.0         1       1  19950000.0  1995-01-01     -9999.0   -9999.0   \n",
       "3   6.0         1       1  19950000.0  1995-01-01     -9999.0   -9999.0   \n",
       "4   6.0         1       1  19950000.0  1995-01-01     -9999.0   -9999.0   \n",
       "\n",
       "     Year  Latitude  Longitude  Elevation  Radar_Horizontal_Resolution  \\\n",
       "0  1989.0     -90.0        0.0     2850.0                      -9999.0   \n",
       "1  1988.0     -90.0        0.0     2850.0                      -9999.0   \n",
       "2  1987.0     -90.0        0.0     2850.0                      -9999.0   \n",
       "3  1986.0     -90.0        0.0     2850.0                      -9999.0   \n",
       "4  1985.0     -90.0        0.0     2850.0                      -9999.0   \n",
       "\n",
       "   Accumulation   Error  \n",
       "0        0.0849 -9999.0  \n",
       "1        0.0740 -9999.0  \n",
       "2        0.0652 -9999.0  \n",
       "3        0.1301 -9999.0  \n",
       "4        0.0767 -9999.0  "
      ]
     },
     "execution_count": 14,
     "metadata": {},
     "output_type": "execute_result"
    }
   ],
   "source": [
    "# Open data as a dataframe\n",
    "df = pd.read_csv(accumulation)\n",
    "\n",
    "# Get unique locations of measurements\n",
    "df_meta = df.groupby(['Latitude','Longitude']).size().reset_index().rename(columns={0:'n_measurements'})\n",
    "\n",
    "# Print out the first few lines\n",
    "df.head()"
   ]
  },
  {
   "cell_type": "code",
   "execution_count": 15,
   "id": "7e4ccc9f-e5b1-4f73-a88d-d8add27b4752",
   "metadata": {},
   "outputs": [
    {
     "name": "stdout",
     "output_type": "stream",
     "text": [
      "Number of individual measurements: 301408\n",
      "Number of unique locations: 97178\n"
     ]
    }
   ],
   "source": [
    "# Print basic information about the dataset\n",
    "print('Number of individual measurements: {}'.format(len(df)))\n",
    "print('Number of unique locations: {}'.format(len(df_meta)))"
   ]
  },
  {
   "cell_type": "markdown",
   "id": "6a610ca3-1699-497d-8314-e93f938a0a0a",
   "metadata": {},
   "source": [
    "### 2.2. Partition dataset into Antarctica and Greenland"
   ]
  },
  {
   "cell_type": "code",
   "execution_count": 16,
   "id": "a8de8694-4c4f-4a38-93df-de60136a8be7",
   "metadata": {},
   "outputs": [],
   "source": [
    "# Split dataset\n",
    "df_greenland = df[df.Latitude>0]\n",
    "df_antarctica = df[df.Latitude<0]\n",
    "\n",
    "# Split metadata\n",
    "df_greenland_meta = df_meta[df_meta.Latitude>0]\n",
    "df_antarctica_meta = df_meta[df_meta.Latitude<0]"
   ]
  },
  {
   "cell_type": "code",
   "execution_count": 17,
   "id": "92e8c1a2-79ff-4199-9b81-1f6fef5c3f9c",
   "metadata": {},
   "outputs": [
    {
     "name": "stdout",
     "output_type": "stream",
     "text": [
      "Antarctica\n",
      "Number of measurements: 156709\n",
      "Number of unique locations: 76846\n",
      "Earliest measurement: 1980-02-01\n",
      "Most recent measurement: 2014-01-08\n",
      "\n",
      "Greenland\n",
      "Number of measurements: 144699\n",
      "Number of unique locations: 20332\n",
      "Earliest measurement: 1987-01-01\n",
      "Most recent measurement: 2017-06-16\n"
     ]
    }
   ],
   "source": [
    "# Print info by ice sheet\n",
    "print('Antarctica')\n",
    "print('Number of measurements: {}'.format(len(df_antarctica)))\n",
    "print('Number of unique locations: {}'.format(len(df_antarctica_meta)))\n",
    "print('Earliest measurement: {}'.format(df_antarctica.Timestamp.min()))\n",
    "print('Most recent measurement: {}'.format(df_antarctica.Timestamp.max()))\n",
    "\n",
    "print('\\nGreenland')\n",
    "print('Number of measurements: {}'.format(len(df_greenland)))\n",
    "print('Number of unique locations: {}'.format(len(df_greenland_meta)))\n",
    "print('Earliest measurement: {}'.format(df_greenland.Timestamp.min()))\n",
    "print('Most recent measurement: {}'.format(df_greenland.Timestamp.max()))"
   ]
  },
  {
   "cell_type": "markdown",
   "id": "1ecf88d2-7c84-4f6d-8ebe-36e56529c6b2",
   "metadata": {},
   "source": [
    "### 2.3. Plot locations\n",
    "\n",
    "NOTE: Since there are so many, these cells take a long time to run. They are commented out so the file does not become too large."
   ]
  },
  {
   "cell_type": "markdown",
   "id": "51335587-3569-48f4-b9bc-b80f0bedb0de",
   "metadata": {},
   "source": [
    "#### 2.3.1. Globally"
   ]
  },
  {
   "cell_type": "code",
   "execution_count": 18,
   "id": "6f7e69ef-f664-4abd-9b12-7d9bb128adfe",
   "metadata": {},
   "outputs": [],
   "source": [
    "# # Create a figure and axes for plotting all locations globally\n",
    "# fig = plt.figure(figsize=(8,6))\n",
    "# ax = plt.subplot(1,1,1,projection=ccrs.PlateCarree())\n",
    "# ax.coastlines(color='gray')\n",
    "\n",
    "# # Plot locations\n",
    "# ax.scatter(df_meta.Longitude,df_meta.Latitude,transform=ccrs.PlateCarree(),\n",
    "#            zorder=10,c='dodgerblue',edgecolor='none',s=15);"
   ]
  },
  {
   "cell_type": "markdown",
   "id": "c67d68ad-4ed3-4ba6-be99-7974b00179a0",
   "metadata": {},
   "source": [
    "#### 2.3.2. Antarctica"
   ]
  },
  {
   "cell_type": "code",
   "execution_count": 19,
   "id": "8ede42fc-b352-46a2-9adc-cf5ae7da1e54",
   "metadata": {
    "tags": []
   },
   "outputs": [],
   "source": [
    "# # Set up figure for plotting \n",
    "# fig = plt.figure(figsize=(6,6))\n",
    "# fig.patch.set_facecolor('w')\n",
    "\n",
    "# # Create axis with correct projection and extent\n",
    "# ax = plt.subplot(1,1,1,projection=ccrs.SouthPolarStereo())\n",
    "# ax.set_extent([-180, 180, -90, -65], ccrs.PlateCarree())\n",
    "# ax.set_title('Antarctica')\n",
    "\n",
    "# # Add features\n",
    "# ocean = cfeature.NaturalEarthFeature('physical', 'ocean', '50m',\n",
    "#                                      edgecolor='none',facecolor=cfeature.COLORS['water'])\n",
    "# land = cfeature.NaturalEarthFeature('physical', 'land', '50m',\n",
    "#                                     edgecolor='none',facecolor=cfeature.COLORS['land'])\n",
    "# glacier = cfeature.NaturalEarthFeature('physical','glaciated_areas','50m',\n",
    "#                                        edgecolor='none',facecolor='w')\n",
    "# iceshelves = cfeature.NaturalEarthFeature('physical','antarctic_ice_shelves_polys','50m',\n",
    "#                                           edgecolor='none',facecolor='#dddddd')\n",
    "# ax.add_feature(ocean,zorder=0)\n",
    "# ax.add_feature(land,zorder=1)\n",
    "# ax.add_feature(glacier,zorder=2)\n",
    "# ax.add_feature(iceshelves,zorder=3)\n",
    "\n",
    "# # Plot locations\n",
    "# ax.scatter(df_antarctica_meta.Longitude,df_antarctica_meta.Latitude,\n",
    "#            transform=ccrs.PlateCarree(),zorder=5,\n",
    "#            c='dodgerblue',s=30,edgecolor='none');"
   ]
  },
  {
   "cell_type": "markdown",
   "id": "2d2c2623-0e20-45f8-80ff-e8e0f0f2753b",
   "metadata": {},
   "source": [
    "#### 2.3.3. Greenland"
   ]
  },
  {
   "cell_type": "code",
   "execution_count": 20,
   "id": "1d366017-1f75-47b4-b42d-bebd8447c1ec",
   "metadata": {},
   "outputs": [],
   "source": [
    "# # Set up figure for plotting \n",
    "# fig = plt.figure(figsize=(4,5))\n",
    "# fig.patch.set_facecolor('w')\n",
    "\n",
    "# # Create axis with correct projection and extent\n",
    "# ax = plt.subplot(1,1,1,projection=ccrs.NorthPolarStereo(central_longitude=-45))\n",
    "# ax.set_extent([-56.5, -30, 59, 84], ccrs.PlateCarree())\n",
    "# ax.set_title('Greenland')\n",
    "\n",
    "# # Add features\n",
    "# ocean = cfeature.NaturalEarthFeature('physical', 'ocean', '50m',\n",
    "#                                      edgecolor='none',facecolor=cfeature.COLORS['water'])\n",
    "# land = cfeature.NaturalEarthFeature('physical', 'land', '50m',\n",
    "#                                     edgecolor='none',facecolor=cfeature.COLORS['land'])\n",
    "# glacier = cfeature.NaturalEarthFeature('physical','glaciated_areas','50m',\n",
    "#                                        edgecolor='none',facecolor='w')\n",
    "# ax.add_feature(ocean,zorder=0)\n",
    "# ax.add_feature(land,zorder=1)\n",
    "# ax.add_feature(glacier,zorder=2)\n",
    "\n",
    "# # Plot locations\n",
    "# ax.scatter(df_greenland_meta.Longitude,df_greenland_meta.Latitude,\n",
    "#            transform=ccrs.PlateCarree(),zorder=5,\n",
    "#            c='dodgerblue',s=25,edgecolor='none');"
   ]
  },
  {
   "cell_type": "markdown",
   "id": "e82ac26b-2d22-4bfb-80d5-4eeaf612ea11",
   "metadata": {},
   "source": [
    "***"
   ]
  },
  {
   "cell_type": "markdown",
   "id": "084d3eaf-88ef-41b9-9fda-ebfb0cc83260",
   "metadata": {},
   "source": [
    "## 3. Subdataset: Borehole Temperature"
   ]
  },
  {
   "cell_type": "markdown",
   "id": "fc5da720-64d3-4e6c-8ee0-66958a689308",
   "metadata": {},
   "source": [
    "### 3.1. Open and view dataset"
   ]
  },
  {
   "cell_type": "code",
   "execution_count": 21,
   "id": "21fcd609-561c-4bb0-9fa7-9e334b1a742e",
   "metadata": {},
   "outputs": [
    {
     "data": {
      "text/html": [
       "<div>\n",
       "<style scoped>\n",
       "    .dataframe tbody tr th:only-of-type {\n",
       "        vertical-align: middle;\n",
       "    }\n",
       "\n",
       "    .dataframe tbody tr th {\n",
       "        vertical-align: top;\n",
       "    }\n",
       "\n",
       "    .dataframe thead th {\n",
       "        text-align: right;\n",
       "    }\n",
       "</style>\n",
       "<table border=\"1\" class=\"dataframe\">\n",
       "  <thead>\n",
       "    <tr style=\"text-align: right;\">\n",
       "      <th></th>\n",
       "      <th>Name</th>\n",
       "      <th>Citation</th>\n",
       "      <th>Method</th>\n",
       "      <th>Date</th>\n",
       "      <th>Timestamp</th>\n",
       "      <th>Latitude</th>\n",
       "      <th>Longitude</th>\n",
       "      <th>Elevation</th>\n",
       "      <th>Depth</th>\n",
       "      <th>Open_Time</th>\n",
       "      <th>Duration</th>\n",
       "      <th>Temperature</th>\n",
       "      <th>Error</th>\n",
       "    </tr>\n",
       "  </thead>\n",
       "  <tbody>\n",
       "    <tr>\n",
       "      <th>0</th>\n",
       "      <td>1</td>\n",
       "      <td>1</td>\n",
       "      <td>-9999</td>\n",
       "      <td>19840124</td>\n",
       "      <td>1984-01-24</td>\n",
       "      <td>-77.57861</td>\n",
       "      <td>-50.57944</td>\n",
       "      <td>58</td>\n",
       "      <td>10.0</td>\n",
       "      <td>-9999</td>\n",
       "      <td>-9999.0</td>\n",
       "      <td>-25.8</td>\n",
       "      <td>-9999.0</td>\n",
       "    </tr>\n",
       "    <tr>\n",
       "      <th>1</th>\n",
       "      <td>2</td>\n",
       "      <td>1</td>\n",
       "      <td>-9999</td>\n",
       "      <td>19860128</td>\n",
       "      <td>1986-01-28</td>\n",
       "      <td>-78.87167</td>\n",
       "      <td>-53.40333</td>\n",
       "      <td>-9999</td>\n",
       "      <td>10.0</td>\n",
       "      <td>-9999</td>\n",
       "      <td>-9999.0</td>\n",
       "      <td>-25.8</td>\n",
       "      <td>-9999.0</td>\n",
       "    </tr>\n",
       "    <tr>\n",
       "      <th>2</th>\n",
       "      <td>3</td>\n",
       "      <td>1</td>\n",
       "      <td>-9999</td>\n",
       "      <td>19840122</td>\n",
       "      <td>1984-01-22</td>\n",
       "      <td>-77.12917</td>\n",
       "      <td>-50.50139</td>\n",
       "      <td>43</td>\n",
       "      <td>10.0</td>\n",
       "      <td>-9999</td>\n",
       "      <td>-9999.0</td>\n",
       "      <td>-24.7</td>\n",
       "      <td>-9999.0</td>\n",
       "    </tr>\n",
       "    <tr>\n",
       "      <th>3</th>\n",
       "      <td>4</td>\n",
       "      <td>1</td>\n",
       "      <td>-9999</td>\n",
       "      <td>19840127</td>\n",
       "      <td>1984-01-27</td>\n",
       "      <td>-77.86722</td>\n",
       "      <td>-52.80417</td>\n",
       "      <td>69</td>\n",
       "      <td>10.0</td>\n",
       "      <td>-9999</td>\n",
       "      <td>-9999.0</td>\n",
       "      <td>-25.9</td>\n",
       "      <td>-9999.0</td>\n",
       "    </tr>\n",
       "    <tr>\n",
       "      <th>4</th>\n",
       "      <td>5</td>\n",
       "      <td>1</td>\n",
       "      <td>-9999</td>\n",
       "      <td>19840130</td>\n",
       "      <td>1984-01-30</td>\n",
       "      <td>-78.24194</td>\n",
       "      <td>-54.04694</td>\n",
       "      <td>67</td>\n",
       "      <td>10.0</td>\n",
       "      <td>-9999</td>\n",
       "      <td>-9999.0</td>\n",
       "      <td>-26.3</td>\n",
       "      <td>-9999.0</td>\n",
       "    </tr>\n",
       "  </tbody>\n",
       "</table>\n",
       "</div>"
      ],
      "text/plain": [
       "   Name  Citation  Method      Date   Timestamp  Latitude  Longitude  \\\n",
       "0     1         1   -9999  19840124  1984-01-24 -77.57861  -50.57944   \n",
       "1     2         1   -9999  19860128  1986-01-28 -78.87167  -53.40333   \n",
       "2     3         1   -9999  19840122  1984-01-22 -77.12917  -50.50139   \n",
       "3     4         1   -9999  19840127  1984-01-27 -77.86722  -52.80417   \n",
       "4     5         1   -9999  19840130  1984-01-30 -78.24194  -54.04694   \n",
       "\n",
       "   Elevation  Depth  Open_Time  Duration  Temperature   Error  \n",
       "0         58   10.0      -9999   -9999.0        -25.8 -9999.0  \n",
       "1      -9999   10.0      -9999   -9999.0        -25.8 -9999.0  \n",
       "2         43   10.0      -9999   -9999.0        -24.7 -9999.0  \n",
       "3         69   10.0      -9999   -9999.0        -25.9 -9999.0  \n",
       "4         67   10.0      -9999   -9999.0        -26.3 -9999.0  "
      ]
     },
     "execution_count": 21,
     "metadata": {},
     "output_type": "execute_result"
    }
   ],
   "source": [
    "# Open data as a dataframe\n",
    "df = pd.read_csv(temperature)\n",
    "\n",
    "# Print out the first few lines\n",
    "df.head()"
   ]
  },
  {
   "cell_type": "code",
   "execution_count": 22,
   "id": "56e05eae-3012-4754-845c-e4c2d2187e02",
   "metadata": {},
   "outputs": [
    {
     "name": "stdout",
     "output_type": "stream",
     "text": [
      "Number of individual measurements: 774\n"
     ]
    }
   ],
   "source": [
    "# Print basic information about the dataset\n",
    "print('Number of individual measurements: {}'.format(len(df)))"
   ]
  },
  {
   "cell_type": "markdown",
   "id": "cee1416a-4024-43cb-a911-718068fabd10",
   "metadata": {},
   "source": [
    "### 3.2. Partition dataset into Antarctica and Greenland"
   ]
  },
  {
   "cell_type": "code",
   "execution_count": 23,
   "id": "da573510-daeb-4a0c-8a58-aa2a2e05b4d9",
   "metadata": {},
   "outputs": [],
   "source": [
    "# Split dataset\n",
    "df_greenland = df[df.Latitude>0]\n",
    "df_antarctica = df[df.Latitude<0]"
   ]
  },
  {
   "cell_type": "code",
   "execution_count": 24,
   "id": "78ee8baa-9e8e-4d7d-953f-9f3cebf4526e",
   "metadata": {},
   "outputs": [
    {
     "name": "stdout",
     "output_type": "stream",
     "text": [
      "Antarctica\n",
      "Number of measurements: 757\n",
      "Earliest measurement: 1957-01-02\n",
      "Most recent measurement: 2014-01-07\n",
      "\n",
      "Greenland\n",
      "Number of measurements: 17\n",
      "Earliest measurement: 2013-04-12\n",
      "Most recent measurement: 2017-06-10\n"
     ]
    }
   ],
   "source": [
    "# Print info by ice sheet\n",
    "print('Antarctica')\n",
    "print('Number of measurements: {}'.format(len(df_antarctica)))\n",
    "print('Earliest measurement: {}'.format(df_antarctica.Timestamp.min()))\n",
    "print('Most recent measurement: {}'.format(df_antarctica.Timestamp.max()))\n",
    "\n",
    "print('\\nGreenland')\n",
    "print('Number of measurements: {}'.format(len(df_greenland)))\n",
    "print('Earliest measurement: {}'.format(df_greenland.Timestamp.min()))\n",
    "print('Most recent measurement: {}'.format(df_greenland.Timestamp.max()))"
   ]
  },
  {
   "cell_type": "markdown",
   "id": "43e5481f-c03f-4bba-ac41-381007cebc33",
   "metadata": {},
   "source": [
    "### 3.3. Plot locations"
   ]
  },
  {
   "cell_type": "markdown",
   "id": "f25b7cc1-e525-4572-88b8-af221fdace3c",
   "metadata": {},
   "source": [
    "#### 3.3.1. Globally"
   ]
  },
  {
   "cell_type": "code",
   "execution_count": 25,
   "id": "c8f4b378-531c-4d20-a3bd-69123e050d9c",
   "metadata": {},
   "outputs": [
    {
     "data": {
      "image/png": "[encoded data removed]",
      "text/plain": [
       "<Figure size 576x432 with 1 Axes>"
      ]
     },
     "metadata": {
      "needs_background": "light"
     },
     "output_type": "display_data"
    }
   ],
   "source": [
    "# Create a figure and axes for plotting all locations globally\n",
    "fig = plt.figure(figsize=(8,6))\n",
    "ax = plt.subplot(1,1,1,projection=ccrs.PlateCarree())\n",
    "ax.coastlines(color='gray')\n",
    "\n",
    "# Plot locations\n",
    "ax.scatter(df.Longitude,df.Latitude,transform=ccrs.PlateCarree(),\n",
    "           zorder=10,c='salmon',edgecolor='none',s=15);"
   ]
  },
  {
   "cell_type": "markdown",
   "id": "98231f28-4d2a-450e-96a0-77f450a6a324",
   "metadata": {},
   "source": [
    "#### 3.3.2. Antarctica"
   ]
  },
  {
   "cell_type": "code",
   "execution_count": 26,
   "id": "2bad15f4-8de5-43a8-888d-83e860fef47e",
   "metadata": {
    "tags": []
   },
   "outputs": [
    {
     "data": {
      "image/png": "[encoded data removed]",
      "text/plain": [
       "<Figure size 432x432 with 1 Axes>"
      ]
     },
     "metadata": {},
     "output_type": "display_data"
    }
   ],
   "source": [
    "# Set up figure for plotting \n",
    "fig = plt.figure(figsize=(6,6))\n",
    "fig.patch.set_facecolor('w')\n",
    "\n",
    "# Create axis with correct projection and extent\n",
    "ax = plt.subplot(1,1,1,projection=ccrs.SouthPolarStereo())\n",
    "ax.set_extent([-180, 180, -90, -65], ccrs.PlateCarree())\n",
    "ax.set_title('Antarctica')\n",
    "\n",
    "# Add features\n",
    "ocean = cfeature.NaturalEarthFeature('physical', 'ocean', '50m',\n",
    "                                     edgecolor='none',facecolor=cfeature.COLORS['water'])\n",
    "land = cfeature.NaturalEarthFeature('physical', 'land', '50m',\n",
    "                                    edgecolor='none',facecolor=cfeature.COLORS['land'])\n",
    "glacier = cfeature.NaturalEarthFeature('physical','glaciated_areas','50m',\n",
    "                                       edgecolor='none',facecolor='w')\n",
    "iceshelves = cfeature.NaturalEarthFeature('physical','antarctic_ice_shelves_polys','50m',\n",
    "                                          edgecolor='none',facecolor='#dddddd')\n",
    "ax.add_feature(ocean,zorder=0)\n",
    "ax.add_feature(land,zorder=1)\n",
    "ax.add_feature(glacier,zorder=2)\n",
    "ax.add_feature(iceshelves,zorder=3)\n",
    "\n",
    "# Plot locations\n",
    "ax.scatter(df_antarctica.Longitude,df_antarctica.Latitude,\n",
    "           transform=ccrs.PlateCarree(),zorder=5,\n",
    "           c='salmon',s=30,edgecolor='none');"
   ]
  },
  {
   "cell_type": "markdown",
   "id": "af12776e-0f5a-4126-bbda-54352bb41d58",
   "metadata": {},
   "source": [
    "#### 3.3.3. Greenland"
   ]
  },
  {
   "cell_type": "code",
   "execution_count": 27,
   "id": "3b6a6068-5793-4ca3-b638-771583e2d65e",
   "metadata": {},
   "outputs": [
    {
     "data": {
      "image/png": "[encoded data removed]",
      "text/plain": [
       "<Figure size 288x360 with 1 Axes>"
      ]
     },
     "metadata": {},
     "output_type": "display_data"
    }
   ],
   "source": [
    "# Set up figure for plotting \n",
    "fig = plt.figure(figsize=(4,5))\n",
    "fig.patch.set_facecolor('w')\n",
    "\n",
    "# Create axis with correct projection and extent\n",
    "ax = plt.subplot(1,1,1,projection=ccrs.NorthPolarStereo(central_longitude=-45))\n",
    "ax.set_extent([-56.5, -30, 59, 84], ccrs.PlateCarree())\n",
    "ax.set_title('Greenland')\n",
    "\n",
    "# Add features\n",
    "ocean = cfeature.NaturalEarthFeature('physical', 'ocean', '50m',\n",
    "                                     edgecolor='none',facecolor=cfeature.COLORS['water'])\n",
    "land = cfeature.NaturalEarthFeature('physical', 'land', '50m',\n",
    "                                    edgecolor='none',facecolor=cfeature.COLORS['land'])\n",
    "glacier = cfeature.NaturalEarthFeature('physical','glaciated_areas','50m',\n",
    "                                       edgecolor='none',facecolor='w')\n",
    "ax.add_feature(ocean,zorder=0)\n",
    "ax.add_feature(land,zorder=1)\n",
    "ax.add_feature(glacier,zorder=2)\n",
    "\n",
    "# Plot locations\n",
    "ax.scatter(df_greenland.Longitude,df_greenland.Latitude,\n",
    "           transform=ccrs.PlateCarree(),zorder=5,\n",
    "           c='salmon',s=25,edgecolor='none');"
   ]
  },
  {
   "cell_type": "markdown",
   "id": "cf899e63-feb4-4e50-99f3-f1cd3a085a40",
   "metadata": {},
   "source": [
    "***"
   ]
  },
  {
   "cell_type": "markdown",
   "id": "bff79d2f-42ee-4467-ac44-c79c1ad4c1fb",
   "metadata": {},
   "source": [
    "## 4. Subdataset: Snow Depth on Sea Ice"
   ]
  },
  {
   "cell_type": "markdown",
   "id": "96ccd206-25fb-4ed6-afaf-c4102b7f1056",
   "metadata": {},
   "source": [
    "### 4.1. Open and view dataset"
   ]
  },
  {
   "cell_type": "code",
   "execution_count": 28,
   "id": "f7d76088-f2f6-4192-a22a-96c5e3837ba2",
   "metadata": {},
   "outputs": [
    {
     "data": {
      "text/html": [
       "<div>\n",
       "<style scoped>\n",
       "    .dataframe tbody tr th:only-of-type {\n",
       "        vertical-align: middle;\n",
       "    }\n",
       "\n",
       "    .dataframe tbody tr th {\n",
       "        vertical-align: top;\n",
       "    }\n",
       "\n",
       "    .dataframe thead th {\n",
       "        text-align: right;\n",
       "    }\n",
       "</style>\n",
       "<table border=\"1\" class=\"dataframe\">\n",
       "  <thead>\n",
       "    <tr style=\"text-align: right;\">\n",
       "      <th></th>\n",
       "      <th>Citation</th>\n",
       "      <th>Method</th>\n",
       "      <th>Date</th>\n",
       "      <th>Timestamp</th>\n",
       "      <th>Latitude</th>\n",
       "      <th>Longitude</th>\n",
       "      <th>Distance_Along_Transect</th>\n",
       "      <th>Snow_Depth</th>\n",
       "      <th>Snow_Depth_Error</th>\n",
       "      <th>Density_Flag</th>\n",
       "      <th>Sea_Ice_Thickness</th>\n",
       "      <th>Sea_Ice_Thickness_Error</th>\n",
       "      <th>Sea_Ice_Type</th>\n",
       "      <th>Sea_Ice_Freeboard</th>\n",
       "      <th>Sea_Ice_Freeboard_Error</th>\n",
       "      <th>Snow_Ice_Thickness</th>\n",
       "      <th>Snow_Ice_Thickness_Error</th>\n",
       "      <th>Radar_Horizontal_Resolution</th>\n",
       "    </tr>\n",
       "  </thead>\n",
       "  <tbody>\n",
       "    <tr>\n",
       "      <th>0</th>\n",
       "      <td>2</td>\n",
       "      <td>1</td>\n",
       "      <td>19901113</td>\n",
       "      <td>1990-11-13</td>\n",
       "      <td>64.9333</td>\n",
       "      <td>24.6667</td>\n",
       "      <td>-9999.0</td>\n",
       "      <td>0.0</td>\n",
       "      <td>-9999.0</td>\n",
       "      <td>0</td>\n",
       "      <td>0.0</td>\n",
       "      <td>-9999.0</td>\n",
       "      <td>1</td>\n",
       "      <td>-9999.0</td>\n",
       "      <td>-9999.0</td>\n",
       "      <td>-9999.0</td>\n",
       "      <td>-9999.0</td>\n",
       "      <td>-9999</td>\n",
       "    </tr>\n",
       "    <tr>\n",
       "      <th>1</th>\n",
       "      <td>2</td>\n",
       "      <td>1</td>\n",
       "      <td>19901113</td>\n",
       "      <td>1990-11-13</td>\n",
       "      <td>65.1233</td>\n",
       "      <td>25.2400</td>\n",
       "      <td>-9999.0</td>\n",
       "      <td>0.0</td>\n",
       "      <td>-9999.0</td>\n",
       "      <td>0</td>\n",
       "      <td>0.0</td>\n",
       "      <td>-9999.0</td>\n",
       "      <td>1</td>\n",
       "      <td>-9999.0</td>\n",
       "      <td>-9999.0</td>\n",
       "      <td>0.0</td>\n",
       "      <td>-9999.0</td>\n",
       "      <td>-9999</td>\n",
       "    </tr>\n",
       "    <tr>\n",
       "      <th>2</th>\n",
       "      <td>2</td>\n",
       "      <td>1</td>\n",
       "      <td>19901113</td>\n",
       "      <td>1990-11-13</td>\n",
       "      <td>64.2233</td>\n",
       "      <td>24.7000</td>\n",
       "      <td>-9999.0</td>\n",
       "      <td>0.0</td>\n",
       "      <td>-9999.0</td>\n",
       "      <td>0</td>\n",
       "      <td>0.0</td>\n",
       "      <td>-9999.0</td>\n",
       "      <td>1</td>\n",
       "      <td>-9999.0</td>\n",
       "      <td>-9999.0</td>\n",
       "      <td>0.0</td>\n",
       "      <td>-9999.0</td>\n",
       "      <td>-9999</td>\n",
       "    </tr>\n",
       "    <tr>\n",
       "      <th>3</th>\n",
       "      <td>2</td>\n",
       "      <td>1</td>\n",
       "      <td>19901113</td>\n",
       "      <td>1990-11-13</td>\n",
       "      <td>63.8900</td>\n",
       "      <td>22.9467</td>\n",
       "      <td>-9999.0</td>\n",
       "      <td>0.0</td>\n",
       "      <td>-9999.0</td>\n",
       "      <td>0</td>\n",
       "      <td>0.0</td>\n",
       "      <td>-9999.0</td>\n",
       "      <td>1</td>\n",
       "      <td>-9999.0</td>\n",
       "      <td>-9999.0</td>\n",
       "      <td>0.0</td>\n",
       "      <td>-9999.0</td>\n",
       "      <td>-9999</td>\n",
       "    </tr>\n",
       "    <tr>\n",
       "      <th>4</th>\n",
       "      <td>2</td>\n",
       "      <td>1</td>\n",
       "      <td>19901113</td>\n",
       "      <td>1990-11-13</td>\n",
       "      <td>63.7300</td>\n",
       "      <td>22.5917</td>\n",
       "      <td>-9999.0</td>\n",
       "      <td>0.0</td>\n",
       "      <td>-9999.0</td>\n",
       "      <td>0</td>\n",
       "      <td>0.0</td>\n",
       "      <td>-9999.0</td>\n",
       "      <td>1</td>\n",
       "      <td>-9999.0</td>\n",
       "      <td>-9999.0</td>\n",
       "      <td>0.0</td>\n",
       "      <td>-9999.0</td>\n",
       "      <td>-9999</td>\n",
       "    </tr>\n",
       "  </tbody>\n",
       "</table>\n",
       "</div>"
      ],
      "text/plain": [
       "   Citation  Method      Date   Timestamp  Latitude  Longitude  \\\n",
       "0         2       1  19901113  1990-11-13   64.9333    24.6667   \n",
       "1         2       1  19901113  1990-11-13   65.1233    25.2400   \n",
       "2         2       1  19901113  1990-11-13   64.2233    24.7000   \n",
       "3         2       1  19901113  1990-11-13   63.8900    22.9467   \n",
       "4         2       1  19901113  1990-11-13   63.7300    22.5917   \n",
       "\n",
       "   Distance_Along_Transect  Snow_Depth  Snow_Depth_Error  Density_Flag  \\\n",
       "0                  -9999.0         0.0           -9999.0             0   \n",
       "1                  -9999.0         0.0           -9999.0             0   \n",
       "2                  -9999.0         0.0           -9999.0             0   \n",
       "3                  -9999.0         0.0           -9999.0             0   \n",
       "4                  -9999.0         0.0           -9999.0             0   \n",
       "\n",
       "   Sea_Ice_Thickness  Sea_Ice_Thickness_Error  Sea_Ice_Type  \\\n",
       "0                0.0                  -9999.0             1   \n",
       "1                0.0                  -9999.0             1   \n",
       "2                0.0                  -9999.0             1   \n",
       "3                0.0                  -9999.0             1   \n",
       "4                0.0                  -9999.0             1   \n",
       "\n",
       "   Sea_Ice_Freeboard  Sea_Ice_Freeboard_Error  Snow_Ice_Thickness  \\\n",
       "0            -9999.0                  -9999.0             -9999.0   \n",
       "1            -9999.0                  -9999.0                 0.0   \n",
       "2            -9999.0                  -9999.0                 0.0   \n",
       "3            -9999.0                  -9999.0                 0.0   \n",
       "4            -9999.0                  -9999.0                 0.0   \n",
       "\n",
       "   Snow_Ice_Thickness_Error  Radar_Horizontal_Resolution  \n",
       "0                   -9999.0                        -9999  \n",
       "1                   -9999.0                        -9999  \n",
       "2                   -9999.0                        -9999  \n",
       "3                   -9999.0                        -9999  \n",
       "4                   -9999.0                        -9999  "
      ]
     },
     "execution_count": 28,
     "metadata": {},
     "output_type": "execute_result"
    }
   ],
   "source": [
    "# Open data as a dataframe\n",
    "df = pd.read_csv(snowdepth)\n",
    "\n",
    "# Get unique locations of measurements\n",
    "df_meta = df.groupby(['Latitude','Longitude']).size().reset_index().rename(columns={0:'n_measurements'})\n",
    "\n",
    "# Print out the first few lines\n",
    "df.head()"
   ]
  },
  {
   "cell_type": "code",
   "execution_count": 29,
   "id": "d02f7eca-897d-4333-92f5-6d1eed800675",
   "metadata": {},
   "outputs": [
    {
     "name": "stdout",
     "output_type": "stream",
     "text": [
      "Number of individual measurements: 92712\n",
      "Number of unique locations: 74399\n"
     ]
    }
   ],
   "source": [
    "# Print basic information about the dataset\n",
    "print('Number of individual measurements: {}'.format(len(df)))\n",
    "print('Number of unique locations: {}'.format(len(df_meta)))"
   ]
  },
  {
   "cell_type": "markdown",
   "id": "9b853c54-f055-4f48-86c2-10bc1a2b1ea1",
   "metadata": {},
   "source": [
    "### 4.2. Partition dataset into Northern and Southern Hemispheres"
   ]
  },
  {
   "cell_type": "code",
   "execution_count": 30,
   "id": "0d6496ed-b4ca-44d8-8b1d-4c4de3dd5ce7",
   "metadata": {},
   "outputs": [],
   "source": [
    "# Split dataset\n",
    "df_n = df[df.Latitude>0]\n",
    "df_s = df[df.Latitude<0]\n",
    "\n",
    "# Split metadata\n",
    "df_n_meta = df_meta[df_meta.Latitude>0]\n",
    "df_s_meta = df_meta[df_meta.Latitude<0]"
   ]
  },
  {
   "cell_type": "code",
   "execution_count": 31,
   "id": "d99bb365-5da3-45c7-b1ce-817fe8ef8252",
   "metadata": {},
   "outputs": [
    {
     "name": "stdout",
     "output_type": "stream",
     "text": [
      "SH\n",
      "Number of measurements: 3176\n",
      "Number of unique locations: 12\n",
      "\n",
      "NH\n",
      "Number of measurements: 89536\n",
      "Number of unique locations: 74387\n"
     ]
    }
   ],
   "source": [
    "# Print info by ice sheet\n",
    "print('SH')\n",
    "print('Number of measurements: {}'.format(len(df_s)))\n",
    "print('Number of unique locations: {}'.format(len(df_s_meta)))\n",
    "\n",
    "print('\\nNH')\n",
    "print('Number of measurements: {}'.format(len(df_n)))\n",
    "print('Number of unique locations: {}'.format(len(df_n_meta)))"
   ]
  },
  {
   "cell_type": "markdown",
   "id": "499b8ef2-394d-4c7c-bf86-ef887d30ba8b",
   "metadata": {},
   "source": [
    "### 4.3. Plot locations\n",
    "\n",
    "NOTE: Since there are so many, these cells take a long time to run. They are commented out so the file does not become too large."
   ]
  },
  {
   "cell_type": "markdown",
   "id": "2e2b7b47-b628-41ec-a6a6-1ec627d0ad20",
   "metadata": {},
   "source": [
    "#### 4.3.1. Globally"
   ]
  },
  {
   "cell_type": "code",
   "execution_count": 32,
   "id": "1be54d82-23fd-4bd0-840e-4ab89b26b2fb",
   "metadata": {},
   "outputs": [],
   "source": [
    "# # Create a figure and axes for plotting all locations globally\n",
    "# fig = plt.figure(figsize=(8,6))\n",
    "# ax = plt.subplot(1,1,1,projection=ccrs.PlateCarree())\n",
    "# ax.coastlines(color='gray')\n",
    "# ax.set_extent([-180, 180, -90, 90], ccrs.PlateCarree())\n",
    "\n",
    "# # Plot locations\n",
    "# ax.scatter(df_meta.Longitude,df_meta.Latitude,transform=ccrs.PlateCarree(),\n",
    "#            zorder=10,c='b',edgecolor='none',s=15);"
   ]
  },
  {
   "cell_type": "markdown",
   "id": "0a4b0764-b653-48d6-9179-77233b369143",
   "metadata": {},
   "source": [
    "#### 4.3.2. Southern Hemisphere"
   ]
  },
  {
   "cell_type": "code",
   "execution_count": 33,
   "id": "da8167bd-2e73-409d-a2be-db82b171a7c4",
   "metadata": {},
   "outputs": [],
   "source": [
    "# # Create a figure and axes for plotting all locations globally\n",
    "# fig = plt.figure(figsize=(8,6))\n",
    "# ax = plt.subplot(1,1,1,projection=ccrs.SouthPolarStereo())\n",
    "# ax.coastlines(color='gray')\n",
    "# ax.set_extent([-180, 180, -90, -65], ccrs.PlateCarree())\n",
    "\n",
    "# # Plot locations\n",
    "# ax.scatter(df_s_meta.Longitude,df_s_meta.Latitude,transform=ccrs.PlateCarree(),\n",
    "#            zorder=10,c='b',edgecolor='none',s=30);"
   ]
  },
  {
   "cell_type": "markdown",
   "id": "135bc624-6c38-46ac-aa65-5a3f4a2370d8",
   "metadata": {},
   "source": [
    "#### 4.3.3. Northern Hemisphere"
   ]
  },
  {
   "cell_type": "code",
   "execution_count": 34,
   "id": "9e9ca8a9-ae34-4c01-8192-0edff77b1c26",
   "metadata": {},
   "outputs": [],
   "source": [
    "# # Create a figure and axes for plotting all locations globally\n",
    "# fig = plt.figure(figsize=(8,6))\n",
    "# ax = plt.subplot(1,1,1,projection=ccrs.NorthPolarStereo())\n",
    "# ax.coastlines(color='gray')\n",
    "# ax.set_extent([-180, 180, 50,90], ccrs.PlateCarree())\n",
    "\n",
    "# # Plot locations\n",
    "# ax.scatter(df_n_meta.Longitude,df_n_meta.Latitude,transform=ccrs.PlateCarree(),\n",
    "#            zorder=10,c='b',edgecolor='none',s=30);"
   ]
  },
  {
   "cell_type": "code",
   "execution_count": null,
   "id": "0a6a914d-4bf1-4ad0-9942-ca133b5351d9",
   "metadata": {},
   "outputs": [],
   "source": []
  }
 ],
 "metadata": {
  "kernelspec": {
   "display_name": "analysis",
   "language": "python",
   "name": "analysis"
  },
  "language_info": {
   "codemirror_mode": {
    "name": "ipython",
    "version": 3
   },
   "file_extension": ".py",
   "mimetype": "text/x-python",
   "name": "python",
   "nbconvert_exporter": "python",
   "pygments_lexer": "ipython3",
   "version": "3.8.12"
  }
 },
 "nbformat": 4,
 "nbformat_minor": 5
}
